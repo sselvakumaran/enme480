{
 "cells": [
  {
   "cell_type": "code",
   "execution_count": 1,
   "metadata": {},
   "outputs": [],
   "source": [
    "import numpy as np\n",
    "from functools import reduce"
   ]
  },
  {
   "cell_type": "code",
   "execution_count": 25,
   "metadata": {},
   "outputs": [],
   "source": [
    "HALF_PI = np.pi / 2\n",
    "DEG_TO_RAD = np.pi / 180\n",
    "sin = np.sin\n",
    "cos = np.cos\n",
    "arcsin = np.arcsin\n",
    "arccos = np.arccos\n",
    "arctan = np.arctan2\n",
    "norm = np.linalg.norm\n",
    "#list of parameters per joint [r, d, alpha]\n",
    "NUM_JOINTS = 6\n",
    "PRECISION = 7\n",
    "\n",
    "PARAMETERS_UR3e = [[0,       .15185, HALF_PI],\n",
    "              [-.24355, 0,      0],\n",
    "              [-.2132,  0,      0],\n",
    "              [0,       .13105, HALF_PI],\n",
    "              [0,       .08535, -HALF_PI],\n",
    "              [0,       .0921,  0],\n",
    "\t\t\t\t\t\t\t[-.0535, \t.059, \t0]]\n",
    "\n",
    "PARAMETERS_UR3 = [[0,       .1519, HALF_PI],\n",
    "              [-.24365, 0,      0],\n",
    "              [-.21325,  0,      0],\n",
    "              [0,       .11235, HALF_PI],\n",
    "              [0,       .08535, -HALF_PI],\n",
    "              [0,       .0819,  0],\n",
    "\t\t\t\t\t\t\t[-.0535, \t.059, \t0]]\n",
    "\n",
    "LL = [0.152, 0.120, 0.244, 0.093, 0.213, 0.083, 0.083, 0.082, 0.0535, 0.052]\n",
    "BASE_COORD = np.array([-0.15, 0.15, 0.01])\n",
    "\n",
    "ANGLE_OFFSET = np.array([HALF_PI * 2, 0, 0, -HALF_PI, 0, 0, 0], dtype=float)\n",
    "\n",
    "trans_params = lambda theta, r, d, alpha: np.array(\n",
    "  [[cos(theta), -sin(theta) * cos(alpha), sin(theta) * sin(alpha),  r * cos(theta)],\n",
    "   [sin(theta), cos(theta) * cos(alpha),  -cos(theta) * sin(alpha), r * sin(theta)],\n",
    "   [0,          sin(alpha),               cos(alpha),               d],\n",
    "   [0,          0,                        0,                        1]])\n",
    "trans_theta_joint = lambda theta, joint_index: trans_params(\n",
    "  theta * DEG_TO_RAD, \n",
    "  *(PARAMETERS_UR3[joint_index]))\n",
    "\n",
    "def lab_fk(theta1, theta2, theta3, theta4, theta5, theta6):\n",
    "\t# Initialize the angles \n",
    "\tprint(\"Forward kinematics calculated:\\n\")\n",
    "\n",
    "\ttheta = np.array([theta1,theta2,theta3,theta4,theta5,theta6,0], dtype=float)\n",
    "\tT = np.eye(4)\n",
    "\n",
    "\t##### Your Code Starts Here #####\n",
    "\t# Fill in scripts from lab3 here\n",
    "\tfor i in range(NUM_JOINTS):\n",
    "\t\tT = np.matmul(T, trans_theta_joint(theta[i], i))\n",
    "\n",
    "\t##### Your Code Ends Here #####\n",
    "\tprint(str(T) + \"\\n\")\n",
    "\n",
    "\ttheta = theta + ANGLE_OFFSET\n",
    "\t# angles[0] = theta1 + np.pi\n",
    "\t# angles[1] = theta2\n",
    "\t# angles[2] = theta3\n",
    "\t# angles[3] = theta4 - (0.5*np.pi)\n",
    "\t# angles[4] = theta5\n",
    "\t# angles[5] = theta6\n",
    "\treturn theta[:6]"
   ]
  },
  {
   "cell_type": "code",
   "execution_count": 26,
   "metadata": {},
   "outputs": [],
   "source": [
    "def inverse_kinematics(xWgrip, yWgrip, zWgrip, yaw_WgripDegree):\n",
    "\tangles = np.array([0, 0, 0, 0, 0, 0], dtype=float)\n",
    "\t##### Your Code Starts Here #####\n",
    "\t# TODO: Function that calculates an elbow up \n",
    "\t# inverse kinematics solution for the UR3\n",
    "\n",
    "\t# Step 1: find gripper position relative to the base of UR3,\n",
    "\t# and set theta_5 equal to -pi/2\n",
    "\tgrip = np.array([xWgrip, yWgrip, zWgrip]) - BASE_COORD\n",
    "\tangles[4] = -HALF_PI\n",
    "\tprint(angles[4])\n",
    "\n",
    "\t# Step 2: find x_cen, y_cen, z_cen\n",
    "\tyaw = yaw_WgripDegree * DEG_TO_RAD\n",
    "\twrist_center = grip - np.array([LL[8] * cos(yaw), \n",
    "\t\t\t\t\t\t\t\t\t\t\t\t\tLL[8] * sin(yaw), \n",
    "\t\t\t\t\t\t\t\t\t\t\t\t\t0]) \n",
    "\n",
    "\t# Step 3: find theta_1\n",
    "\tx, y = wrist_center[0], wrist_center[1]\n",
    "\td = np.sqrt(x*x + y*y)\n",
    "\t\n",
    "\trectL = LL[1] - LL[3] + LL[5]\n",
    "\tangles[0] = HALF_PI - arctan(x, y) - arcsin(rectL / d)\n",
    "\t#HALF_PI - arctan(y, x) - arcsin(rectL / d)\n",
    "\n",
    "\t# Step 4: find theta_6 \n",
    "\t\t# based on theta 1 and yaw angle, equals 0 when 9 parallel to 4 and 6\n",
    "\tangles[5] = HALF_PI + angles[0] - yaw\n",
    "\n",
    "\t# Step 5: find x3_end, y3_end, z3_end\n",
    "\tx3 = wrist_center - [LL[6]*cos(angles[0]) - rectL * sin(angles[0]),\n",
    "\t\t\t\t\t\t\t\t\t\t\tLL[6]*sin(angles[0]) + rectL * cos(angles[0]),\n",
    "\t\t\t\t\t\t\t\t\t\t\t\t\t\t\t\t\t\t\t\t\t\t\t-LL[9] - LL[7]]\n",
    "\n",
    "\t# Step 6: find theta_2, theta_3, theta_4\n",
    "\tL1, L3, L5 = LL[0], LL[2], LL[4]\n",
    "\tz = x3[2] - L1\n",
    "\tl = norm(x3 - [0,0,L1])\n",
    "\tangles[2] = HALF_PI*2 - arccos((L3*L3+L5*L5-l*l) / (2*L3*L5))\n",
    "\tangles[1] = -(arcsin(L5*sin(angles[2]) / l) + arcsin(z / l))\n",
    "\tangles[3] = -angles[1] - angles[2]\n",
    "\n",
    "\t##### Your Code Ends Here #####\n",
    "\n",
    "\t# obtain angles from forward kinematics function\n",
    "\t#angles = lab_fk(*angles)\n",
    "\n",
    "\treturn angles"
   ]
  },
  {
   "cell_type": "code",
   "execution_count": 27,
   "metadata": {},
   "outputs": [],
   "source": [
    "def solution(x,y,z,t):\n",
    "  #define length parameters\n",
    "  L1 = 0.152\n",
    "  L2 = 0.120\n",
    "  L3 = 0.244\n",
    "  L4 = 0.093\n",
    "  L5 = 0.213\n",
    "  L6 = 0.083\n",
    "  L7 = 0.083\n",
    "  L8 = 0.082\n",
    "  L9 = 0.0535\n",
    "  L10= 0.059\n",
    "\n",
    "  Zcen = z - 0.01\n",
    "  Xcen = x-L9*np.cos(t/180*np.pi)+0.15\n",
    "  Ycen = y-L9*np.sin(t/180*np.pi)-0.15\n",
    "  \n",
    "  theta1 = 90. - np.arctan2(Xcen,Ycen)/np.pi*180 - np.arcsin((L6+0.027)/(Xcen**2+Ycen**2)**0.5)/np.pi*180\n",
    "  y3end = Ycen - np.sin(theta1/180*np.pi)*L7 - np.cos(theta1/180*np.pi)*(L6+0.027)\n",
    "  x3end = Xcen - np.cos(theta1/180*np.pi)*L7 + np.sin(theta1/180*np.pi)*(L6+0.027)\n",
    "  z3end = Zcen + L10 + L8\n",
    "    \n",
    "  theta6 =  90. - t + theta1\n",
    "  theta5 = -90.\n",
    "  L = (x3end**2+y3end**2+(z3end-L1)**2)**0.5\n",
    "  theta3 = 180 - np.arccos((L3**2+L5**2-L**2)/2/L3/L5)*180/np.pi\n",
    "  theta2 = -np.arcsin((z3end-L1)/L)/np.pi*180 - np.arcsin(np.sin(np.pi-theta3*np.pi/180)*L5/L)/np.pi*180\n",
    "  theta4 = - theta3 - theta2\n",
    "  return [theta1,theta2,theta3,theta4,theta5,theta6]"
   ]
  },
  {
   "cell_type": "code",
   "execution_count": 29,
   "metadata": {},
   "outputs": [
    {
     "name": "stdout",
     "output_type": "stream",
     "text": [
      "-1.5707963267948966\n",
      "[ 17.25873718 -52.01841823 105.11397047 -53.09555224 -90.\n",
      "  62.25873718]\n",
      "[17.258737179784482, -53.36533049227521, 104.91023226949032, -51.54490177721511, -90.0, 62.25873717978448]\n"
     ]
    }
   ],
   "source": [
    "print(inverse_kinematics(0.2,0.4,0.05,45)/DEG_TO_RAD)\n",
    "print(solution(0.2,0.4,0.05,45))"
   ]
  },
  {
   "cell_type": "code",
   "execution_count": 19,
   "metadata": {},
   "outputs": [
    {
     "data": {
      "text/plain": [
       "array([1.57079633, 0.        , 0.        , 0.        , 0.        ,\n",
       "       0.        ])"
      ]
     },
     "execution_count": 19,
     "metadata": {},
     "output_type": "execute_result"
    }
   ],
   "source": [
    "a = np.array([0, 0, 0, 0, 0, 0], dtype=float)\n",
    "a[0] = HALF_PI\n",
    "a"
   ]
  }
 ],
 "metadata": {
  "kernelspec": {
   "display_name": "Python 3",
   "language": "python",
   "name": "python3"
  },
  "language_info": {
   "codemirror_mode": {
    "name": "ipython",
    "version": 3
   },
   "file_extension": ".py",
   "mimetype": "text/x-python",
   "name": "python",
   "nbconvert_exporter": "python",
   "pygments_lexer": "ipython3",
   "version": "3.11.5"
  }
 },
 "nbformat": 4,
 "nbformat_minor": 2
}
